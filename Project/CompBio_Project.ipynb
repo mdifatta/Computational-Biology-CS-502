{
  "nbformat": 4,
  "nbformat_minor": 0,
  "metadata": {
    "colab": {
      "name": "CompBio_Project.ipynb",
      "version": "0.3.2",
      "provenance": [],
      "toc_visible": true
    },
    "kernelspec": {
      "name": "python3",
      "display_name": "Python 3"
    },
    "accelerator": "GPU"
  },
  "cells": [
    {
      "metadata": {
        "id": "gUnd7gqpZcXp",
        "colab_type": "code",
        "colab": {
          "resources": {
            "http://localhost:8080/nbextensions/google.colab/files.js": {
              "data": "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",
              "ok": true,
              "headers": [
                [
                  "content-type",
                  "application/javascript"
                ]
              ],
              "status": 200,
              "status_text": ""
            }
          },
          "base_uri": "https://localhost:8080/",
          "height": 107
        },
        "outputId": "9a7eeb9e-8e33-45fc-c117-150273d3f2c4"
      },
      "cell_type": "code",
      "source": [
        "from google.colab import files\n",
        "files.upload()"
      ],
      "execution_count": 2,
      "outputs": [
        {
          "output_type": "display_data",
          "data": {
            "text/html": [
              "\n",
              "     <input type=\"file\" id=\"files-bf63242a-47d5-4798-a4d2-26960c726177\" name=\"files[]\" multiple disabled />\n",
              "     <output id=\"result-bf63242a-47d5-4798-a4d2-26960c726177\">\n",
              "      Upload widget is only available when the cell has been executed in the\n",
              "      current browser session. Please rerun this cell to enable.\n",
              "      </output>\n",
              "      <script src=\"/nbextensions/google.colab/files.js\"></script> "
            ],
            "text/plain": [
              "<IPython.core.display.HTML object>"
            ]
          },
          "metadata": {
            "tags": []
          }
        },
        {
          "output_type": "stream",
          "text": [
            "Saving kaggle.json to kaggle.json\n"
          ],
          "name": "stdout"
        },
        {
          "output_type": "execute_result",
          "data": {
            "text/plain": [
              "{'kaggle.json': b'{\"username\":\"flaviodipalopolimi\",\"key\":\"b16caab9c9b8a0ffd2353fafb0be9a58\"}'}"
            ]
          },
          "metadata": {
            "tags": []
          },
          "execution_count": 2
        }
      ]
    },
    {
      "metadata": {
        "id": "D0wkbvfnZigv",
        "colab_type": "text"
      },
      "cell_type": "markdown",
      "source": [
        ""
      ]
    },
    {
      "metadata": {
        "id": "IgsQJUKuZg3l",
        "colab_type": "code",
        "colab": {}
      },
      "cell_type": "code",
      "source": [
        "!pip install -q kaggle"
      ],
      "execution_count": 0,
      "outputs": []
    },
    {
      "metadata": {
        "id": "udDGiKooZuEx",
        "colab_type": "code",
        "colab": {}
      },
      "cell_type": "code",
      "source": [
        "!mkdir -p ~/.kaggle\n",
        "!cp kaggle.json ~/.kaggle/"
      ],
      "execution_count": 0,
      "outputs": []
    },
    {
      "metadata": {
        "id": "KTnxxteqZ-p8",
        "colab_type": "code",
        "colab": {
          "base_uri": "https://localhost:8080/",
          "height": 435
        },
        "outputId": "da9093ba-e786-4ec0-c6db-a983548d9a25"
      },
      "cell_type": "code",
      "source": [
        ""
      ],
      "execution_count": 7,
      "outputs": [
        {
          "output_type": "stream",
          "text": [
            "Warning: Your Kaggle API key is readable by otherusers on this system! To fix this, you can run'chmod 600 /root/.kaggle/kaggle.json'\n",
            "ref                                                 title                                               size  lastUpdated          downloadCount  \n",
            "--------------------------------------------------  -------------------------------------------------  -----  -------------------  -------------  \n",
            "kaggle/kaggle-survey-2018                           2018 Kaggle ML & DS Survey Challenge                 4MB  2018-11-03 22:35:07           2015  \n",
            "lava18/google-play-store-apps                       Google Play Store Apps                               2MB  2018-09-18 20:49:49          17532  \n",
            "xvivancos/transactions-from-a-bakery                Transactions from a bakery                         113KB  2018-09-05 23:42:32           8726  \n",
            "census/family-households-with-married-couples-data  Family Households with Married Couples Data          2KB  2018-11-07 09:42:49           1122  \n",
            "martinellis/nhl-game-data                           NHL Game Data                                      120MB  2018-09-26 19:11:47           1595  \n",
            "center-for-policing-equity/data-science-for-good    Data Science for Good: Center for Policing Equity   43MB  2018-10-29 23:55:11           2246  \n",
            "olistbr/brazilian-ecommerce                         Brazilian E-Commerce Public Dataset by Olist        42MB  2018-10-31 16:15:27           3684  \n",
            "kmader/skin-cancer-mnist-ham10000                   Skin Cancer MNIST: HAM10000                          3GB  2018-09-20 20:36:13           2159  \n",
            "jenny18/honey-bee-annotated-images                  Annotated Honey Bee Images                          50MB  2018-09-16 23:42:12           1463  \n",
            "census/census-bureau-usa                            United States Census                               161MB  2018-04-17 18:52:46              0  \n",
            "jacobbaruch/nba-player-of-the-week                  NBA player of the week                              16KB  2018-08-18 20:41:30           2546  \n",
            "kmader/colorectal-histology-mnist                   Colorectal Histology MNIST                         991MB  2018-09-19 14:20:49            389  \n",
            "fmena14/volcanoesvenus                              Volcanoes on Venus                                 109MB  2018-08-25 01:37:34           1023  \n",
            "census/total-construction-spending-data-collection  Total Construction Spending Data Collection         34KB  2018-11-07 09:35:30            801  \n",
            "dansbecker/cityscapes-image-pairs                   Cityscapes Image Pairs                             101MB  2018-04-20 13:55:20            344  \n",
            "kmader/nih-deeplesion-subset                        NIH DeepLesion Subset                                8GB  2018-07-22 18:58:32            438  \n",
            "chicago/chicago-red-light-and-speed-camera-data     Chicago Red Light and Speed Camera Data             23MB  2018-11-08 16:39:10           1326  \n",
            "census/total-business-inventories-and-sales-data    Total Business Inventories and Sales Data           21KB  2018-11-07 09:34:19           1721  \n",
            "crawford/boston-public-schools                      Boston Public Schools                               21KB  2018-09-18 21:49:50           1181  \n",
            "theworldbank/education-statistics                   Education Statistics                                75MB  2018-11-07 20:09:51           9201  \n"
          ],
          "name": "stdout"
        }
      ]
    },
    {
      "metadata": {
        "id": "EUCf-OT0aS2g",
        "colab_type": "code",
        "colab": {
          "base_uri": "https://localhost:8080/",
          "height": 262
        },
        "outputId": "aea5a639-ce1e-4748-f923-cb52a9e0998f"
      },
      "cell_type": "code",
      "source": [
        "!kaggle competitions download -c human-protein-atlas-image-classification"
      ],
      "execution_count": 8,
      "outputs": [
        {
          "output_type": "stream",
          "text": [
            "Warning: Your Kaggle API key is readable by otherusers on this system! To fix this, you can run'chmod 600 /root/.kaggle/kaggle.json'\n",
            "Downloading sample_submission.csv to /content\n",
            "  0% 0.00/446k [00:00<?, ?B/s]\n",
            "100% 446k/446k [00:00<00:00, 70.5MB/s]\n",
            "Downloading train.csv to /content\n",
            "  0% 0.00/1.22M [00:00<?, ?B/s]\n",
            "100% 1.22M/1.22M [00:00<00:00, 127MB/s]\n",
            "Downloading test.zip to /content\n",
            "100% 4.36G/4.37G [00:31<00:00, 142MB/s]\n",
            "100% 4.37G/4.37G [00:31<00:00, 147MB/s]\n",
            "Downloading train.zip to /content\n",
            "100% 13.1G/13.1G [01:39<00:00, 145MB/s]\n",
            "100% 13.1G/13.1G [01:39<00:00, 142MB/s]\n"
          ],
          "name": "stdout"
        }
      ]
    },
    {
      "metadata": {
        "id": "JXVvfybPariH",
        "colab_type": "code",
        "colab": {}
      },
      "cell_type": "code",
      "source": [
        ""
      ],
      "execution_count": 0,
      "outputs": []
    },
    {
      "metadata": {
        "id": "_OPrZDmqwQl4",
        "colab_type": "code",
        "colab": {}
      },
      "cell_type": "code",
      "source": [
        "import matplotlib.pylab as plt\n",
        "import numpy as np\n",
        "import pandas as pd\n",
        "import tensorflow as tf\n",
        "import seaborn as sns\n",
        "from tensorflow.contrib import rnn\n",
        "\n",
        "\n",
        "%matplotlib inline  \n",
        "\n",
        "\n"
      ],
      "execution_count": 0,
      "outputs": []
    },
    {
      "metadata": {
        "id": "0ZBAV-7FlENH",
        "colab_type": "code",
        "colab": {}
      },
      "cell_type": "code",
      "source": [
        "from google.colab import drive\n",
        "drive.mount('/content/gdrive')\n"
      ],
      "execution_count": 0,
      "outputs": []
    },
    {
      "metadata": {
        "id": "2oC8Jw1tcKP2",
        "colab_type": "text"
      },
      "cell_type": "markdown",
      "source": [
        "# Data Exploration"
      ]
    },
    {
      "metadata": {
        "id": "rks_pdptFcdp",
        "colab_type": "code",
        "colab": {}
      },
      "cell_type": "code",
      "source": [
        "train_labels = pd.read_csv(\"train.csv\")\n"
      ],
      "execution_count": 0,
      "outputs": []
    },
    {
      "metadata": {
        "id": "jv2UgnbgcI89",
        "colab_type": "code",
        "colab": {
          "base_uri": "https://localhost:8080/",
          "height": 198
        },
        "outputId": "fc2868e7-93a3-492c-d9cb-10749d8c7c76"
      },
      "cell_type": "code",
      "source": [
        "train_labels.head()"
      ],
      "execution_count": 19,
      "outputs": [
        {
          "output_type": "execute_result",
          "data": {
            "text/html": [
              "<div>\n",
              "<style scoped>\n",
              "    .dataframe tbody tr th:only-of-type {\n",
              "        vertical-align: middle;\n",
              "    }\n",
              "\n",
              "    .dataframe tbody tr th {\n",
              "        vertical-align: top;\n",
              "    }\n",
              "\n",
              "    .dataframe thead th {\n",
              "        text-align: right;\n",
              "    }\n",
              "</style>\n",
              "<table border=\"1\" class=\"dataframe\">\n",
              "  <thead>\n",
              "    <tr style=\"text-align: right;\">\n",
              "      <th></th>\n",
              "      <th>Id</th>\n",
              "      <th>Target</th>\n",
              "    </tr>\n",
              "  </thead>\n",
              "  <tbody>\n",
              "    <tr>\n",
              "      <th>0</th>\n",
              "      <td>00070df0-bbc3-11e8-b2bc-ac1f6b6435d0</td>\n",
              "      <td>16 0</td>\n",
              "    </tr>\n",
              "    <tr>\n",
              "      <th>1</th>\n",
              "      <td>000a6c98-bb9b-11e8-b2b9-ac1f6b6435d0</td>\n",
              "      <td>7 1 2 0</td>\n",
              "    </tr>\n",
              "    <tr>\n",
              "      <th>2</th>\n",
              "      <td>000a9596-bbc4-11e8-b2bc-ac1f6b6435d0</td>\n",
              "      <td>5</td>\n",
              "    </tr>\n",
              "    <tr>\n",
              "      <th>3</th>\n",
              "      <td>000c99ba-bba4-11e8-b2b9-ac1f6b6435d0</td>\n",
              "      <td>1</td>\n",
              "    </tr>\n",
              "    <tr>\n",
              "      <th>4</th>\n",
              "      <td>001838f8-bbca-11e8-b2bc-ac1f6b6435d0</td>\n",
              "      <td>18</td>\n",
              "    </tr>\n",
              "  </tbody>\n",
              "</table>\n",
              "</div>"
            ],
            "text/plain": [
              "                                     Id   Target\n",
              "0  00070df0-bbc3-11e8-b2bc-ac1f6b6435d0     16 0\n",
              "1  000a6c98-bb9b-11e8-b2b9-ac1f6b6435d0  7 1 2 0\n",
              "2  000a9596-bbc4-11e8-b2bc-ac1f6b6435d0        5\n",
              "3  000c99ba-bba4-11e8-b2b9-ac1f6b6435d0        1\n",
              "4  001838f8-bbca-11e8-b2bc-ac1f6b6435d0       18"
            ]
          },
          "metadata": {
            "tags": []
          },
          "execution_count": 19
        }
      ]
    },
    {
      "metadata": {
        "id": "IkTbGqXGcfPh",
        "colab_type": "code",
        "colab": {
          "base_uri": "https://localhost:8080/",
          "height": 35
        },
        "outputId": "22453295-aeb5-4641-c4ab-eab33efef0ed"
      },
      "cell_type": "code",
      "source": [
        "#How many samples do we have ? \n",
        "train_labels.shape[0]"
      ],
      "execution_count": 20,
      "outputs": [
        {
          "output_type": "execute_result",
          "data": {
            "text/plain": [
              "31072"
            ]
          },
          "metadata": {
            "tags": []
          },
          "execution_count": 20
        }
      ]
    },
    {
      "metadata": {
        "id": "1ng7AMh6cvkn",
        "colab_type": "code",
        "colab": {}
      },
      "cell_type": "code",
      "source": [
        "#We report here all the label dictionary \n",
        "\n",
        "label_names = {\n",
        "    0:  \"Nucleoplasm\",  \n",
        "    1:  \"Nuclear membrane\",   \n",
        "    2:  \"Nucleoli\",   \n",
        "    3:  \"Nucleoli fibrillar center\",   \n",
        "    4:  \"Nuclear speckles\",\n",
        "    5:  \"Nuclear bodies\",   \n",
        "    6:  \"Endoplasmic reticulum\",   \n",
        "    7:  \"Golgi apparatus\",   \n",
        "    8:  \"Peroxisomes\",   \n",
        "    9:  \"Endosomes\",   \n",
        "    10:  \"Lysosomes\",   \n",
        "    11:  \"Intermediate filaments\",   \n",
        "    12:  \"Actin filaments\",   \n",
        "    13:  \"Focal adhesion sites\",   \n",
        "    14:  \"Microtubules\",   \n",
        "    15:  \"Microtubule ends\",   \n",
        "    16:  \"Cytokinetic bridge\",   \n",
        "    17:  \"Mitotic spindle\",   \n",
        "    18:  \"Microtubule organizing center\",   \n",
        "    19:  \"Centrosome\",   \n",
        "    20:  \"Lipid droplets\",   \n",
        "    21:  \"Plasma membrane\",   \n",
        "    22:  \"Cell junctions\",   \n",
        "    23:  \"Mitochondria\",   \n",
        "    24:  \"Aggresome\",   \n",
        "    25:  \"Cytosol\",   \n",
        "    26:  \"Cytoplasmic bodies\",   \n",
        "    27:  \"Rods & rings\"\n",
        "}"
      ],
      "execution_count": 0,
      "outputs": []
    },
    {
      "metadata": {
        "id": "Enpla_vUc9L9",
        "colab_type": "code",
        "colab": {}
      },
      "cell_type": "code",
      "source": [
        "reverse_train_labels = dict((v,k) for k,v in label_names.items())\n",
        "\n",
        "def fill_targets(row):\n",
        "    row.Target = np.array(row.Target.split(\" \")).astype(np.int)\n",
        "    for num in row.Target:\n",
        "        name = label_names[int(num)]\n",
        "        row.loc[name] = 1\n",
        "    return row"
      ],
      "execution_count": 0,
      "outputs": []
    },
    {
      "metadata": {
        "id": "cCtvtsBvdO-i",
        "colab_type": "text"
      },
      "cell_type": "markdown",
      "source": [
        "#Labels that occur most often\n"
      ]
    },
    {
      "metadata": {
        "id": "934TIgNTdSrf",
        "colab_type": "code",
        "colab": {
          "base_uri": "https://localhost:8080/",
          "height": 541
        },
        "outputId": "be801dcb-79d9-4923-efde-d0c62cfa5a7a"
      },
      "cell_type": "code",
      "source": [
        "for key in label_names.keys():\n",
        "    train_labels[label_names[key]] = 0\n",
        "train_labels = train_labels.apply(fill_targets, axis=1)\n",
        "train_labels.head()"
      ],
      "execution_count": 22,
      "outputs": [
        {
          "output_type": "execute_result",
          "data": {
            "text/html": [
              "<div>\n",
              "<style scoped>\n",
              "    .dataframe tbody tr th:only-of-type {\n",
              "        vertical-align: middle;\n",
              "    }\n",
              "\n",
              "    .dataframe tbody tr th {\n",
              "        vertical-align: top;\n",
              "    }\n",
              "\n",
              "    .dataframe thead th {\n",
              "        text-align: right;\n",
              "    }\n",
              "</style>\n",
              "<table border=\"1\" class=\"dataframe\">\n",
              "  <thead>\n",
              "    <tr style=\"text-align: right;\">\n",
              "      <th></th>\n",
              "      <th>Id</th>\n",
              "      <th>Target</th>\n",
              "      <th>Nucleoplasm</th>\n",
              "      <th>Nuclear membrane</th>\n",
              "      <th>Nucleoli</th>\n",
              "      <th>Nucleoli fibrillar center</th>\n",
              "      <th>Nuclear speckles</th>\n",
              "      <th>Nuclear bodies</th>\n",
              "      <th>Endoplasmic reticulum</th>\n",
              "      <th>Golgi apparatus</th>\n",
              "      <th>...</th>\n",
              "      <th>Microtubule organizing center</th>\n",
              "      <th>Centrosome</th>\n",
              "      <th>Lipid droplets</th>\n",
              "      <th>Plasma membrane</th>\n",
              "      <th>Cell junctions</th>\n",
              "      <th>Mitochondria</th>\n",
              "      <th>Aggresome</th>\n",
              "      <th>Cytosol</th>\n",
              "      <th>Cytoplasmic bodies</th>\n",
              "      <th>Rods &amp; rings</th>\n",
              "    </tr>\n",
              "  </thead>\n",
              "  <tbody>\n",
              "    <tr>\n",
              "      <th>0</th>\n",
              "      <td>00070df0-bbc3-11e8-b2bc-ac1f6b6435d0</td>\n",
              "      <td>[16, 0]</td>\n",
              "      <td>1</td>\n",
              "      <td>0</td>\n",
              "      <td>0</td>\n",
              "      <td>0</td>\n",
              "      <td>0</td>\n",
              "      <td>0</td>\n",
              "      <td>0</td>\n",
              "      <td>0</td>\n",
              "      <td>...</td>\n",
              "      <td>0</td>\n",
              "      <td>0</td>\n",
              "      <td>0</td>\n",
              "      <td>0</td>\n",
              "      <td>0</td>\n",
              "      <td>0</td>\n",
              "      <td>0</td>\n",
              "      <td>0</td>\n",
              "      <td>0</td>\n",
              "      <td>0</td>\n",
              "    </tr>\n",
              "    <tr>\n",
              "      <th>1</th>\n",
              "      <td>000a6c98-bb9b-11e8-b2b9-ac1f6b6435d0</td>\n",
              "      <td>[7, 1, 2, 0]</td>\n",
              "      <td>1</td>\n",
              "      <td>1</td>\n",
              "      <td>1</td>\n",
              "      <td>0</td>\n",
              "      <td>0</td>\n",
              "      <td>0</td>\n",
              "      <td>0</td>\n",
              "      <td>1</td>\n",
              "      <td>...</td>\n",
              "      <td>0</td>\n",
              "      <td>0</td>\n",
              "      <td>0</td>\n",
              "      <td>0</td>\n",
              "      <td>0</td>\n",
              "      <td>0</td>\n",
              "      <td>0</td>\n",
              "      <td>0</td>\n",
              "      <td>0</td>\n",
              "      <td>0</td>\n",
              "    </tr>\n",
              "    <tr>\n",
              "      <th>2</th>\n",
              "      <td>000a9596-bbc4-11e8-b2bc-ac1f6b6435d0</td>\n",
              "      <td>[5]</td>\n",
              "      <td>0</td>\n",
              "      <td>0</td>\n",
              "      <td>0</td>\n",
              "      <td>0</td>\n",
              "      <td>0</td>\n",
              "      <td>1</td>\n",
              "      <td>0</td>\n",
              "      <td>0</td>\n",
              "      <td>...</td>\n",
              "      <td>0</td>\n",
              "      <td>0</td>\n",
              "      <td>0</td>\n",
              "      <td>0</td>\n",
              "      <td>0</td>\n",
              "      <td>0</td>\n",
              "      <td>0</td>\n",
              "      <td>0</td>\n",
              "      <td>0</td>\n",
              "      <td>0</td>\n",
              "    </tr>\n",
              "    <tr>\n",
              "      <th>3</th>\n",
              "      <td>000c99ba-bba4-11e8-b2b9-ac1f6b6435d0</td>\n",
              "      <td>[1]</td>\n",
              "      <td>0</td>\n",
              "      <td>1</td>\n",
              "      <td>0</td>\n",
              "      <td>0</td>\n",
              "      <td>0</td>\n",
              "      <td>0</td>\n",
              "      <td>0</td>\n",
              "      <td>0</td>\n",
              "      <td>...</td>\n",
              "      <td>0</td>\n",
              "      <td>0</td>\n",
              "      <td>0</td>\n",
              "      <td>0</td>\n",
              "      <td>0</td>\n",
              "      <td>0</td>\n",
              "      <td>0</td>\n",
              "      <td>0</td>\n",
              "      <td>0</td>\n",
              "      <td>0</td>\n",
              "    </tr>\n",
              "    <tr>\n",
              "      <th>4</th>\n",
              "      <td>001838f8-bbca-11e8-b2bc-ac1f6b6435d0</td>\n",
              "      <td>[18]</td>\n",
              "      <td>0</td>\n",
              "      <td>0</td>\n",
              "      <td>0</td>\n",
              "      <td>0</td>\n",
              "      <td>0</td>\n",
              "      <td>0</td>\n",
              "      <td>0</td>\n",
              "      <td>0</td>\n",
              "      <td>...</td>\n",
              "      <td>1</td>\n",
              "      <td>0</td>\n",
              "      <td>0</td>\n",
              "      <td>0</td>\n",
              "      <td>0</td>\n",
              "      <td>0</td>\n",
              "      <td>0</td>\n",
              "      <td>0</td>\n",
              "      <td>0</td>\n",
              "      <td>0</td>\n",
              "    </tr>\n",
              "  </tbody>\n",
              "</table>\n",
              "<p>5 rows × 30 columns</p>\n",
              "</div>"
            ],
            "text/plain": [
              "                                     Id        Target  Nucleoplasm  \\\n",
              "0  00070df0-bbc3-11e8-b2bc-ac1f6b6435d0       [16, 0]            1   \n",
              "1  000a6c98-bb9b-11e8-b2b9-ac1f6b6435d0  [7, 1, 2, 0]            1   \n",
              "2  000a9596-bbc4-11e8-b2bc-ac1f6b6435d0           [5]            0   \n",
              "3  000c99ba-bba4-11e8-b2b9-ac1f6b6435d0           [1]            0   \n",
              "4  001838f8-bbca-11e8-b2bc-ac1f6b6435d0          [18]            0   \n",
              "\n",
              "   Nuclear membrane  Nucleoli  Nucleoli fibrillar center  Nuclear speckles  \\\n",
              "0                 0         0                          0                 0   \n",
              "1                 1         1                          0                 0   \n",
              "2                 0         0                          0                 0   \n",
              "3                 1         0                          0                 0   \n",
              "4                 0         0                          0                 0   \n",
              "\n",
              "   Nuclear bodies  Endoplasmic reticulum  Golgi apparatus      ...       \\\n",
              "0               0                      0                0      ...        \n",
              "1               0                      0                1      ...        \n",
              "2               1                      0                0      ...        \n",
              "3               0                      0                0      ...        \n",
              "4               0                      0                0      ...        \n",
              "\n",
              "   Microtubule organizing center  Centrosome  Lipid droplets  Plasma membrane  \\\n",
              "0                              0           0               0                0   \n",
              "1                              0           0               0                0   \n",
              "2                              0           0               0                0   \n",
              "3                              0           0               0                0   \n",
              "4                              1           0               0                0   \n",
              "\n",
              "   Cell junctions  Mitochondria  Aggresome  Cytosol  Cytoplasmic bodies  \\\n",
              "0               0             0          0        0                   0   \n",
              "1               0             0          0        0                   0   \n",
              "2               0             0          0        0                   0   \n",
              "3               0             0          0        0                   0   \n",
              "4               0             0          0        0                   0   \n",
              "\n",
              "   Rods & rings  \n",
              "0             0  \n",
              "1             0  \n",
              "2             0  \n",
              "3             0  \n",
              "4             0  \n",
              "\n",
              "[5 rows x 30 columns]"
            ]
          },
          "metadata": {
            "tags": []
          },
          "execution_count": 22
        }
      ]
    },
    {
      "metadata": {
        "id": "tcVnBZMadDK_",
        "colab_type": "code",
        "colab": {
          "base_uri": "https://localhost:8080/",
          "height": 935
        },
        "outputId": "0538d8ce-3c23-404b-dc51-9b8976906195"
      },
      "cell_type": "code",
      "source": [
        "target_counts = train_labels.drop([\"Id\", \"Target\"],axis=1).sum(axis=0).sort_values(ascending=False)\n",
        "plt.figure(figsize=(15,15))\n",
        "sns.barplot(y=target_counts.index.values, x=target_counts.values, order=target_counts.index)"
      ],
      "execution_count": 23,
      "outputs": [
        {
          "output_type": "stream",
          "text": [
            "/usr/local/lib/python3.6/dist-packages/seaborn/categorical.py:1428: FutureWarning: remove_na is deprecated and is a private function. Do not use.\n",
            "  stat_data = remove_na(group_data)\n"
          ],
          "name": "stderr"
        },
        {
          "output_type": "execute_result",
          "data": {
            "text/plain": [
              "<matplotlib.axes._subplots.AxesSubplot at 0x7f59c1674c50>"
            ]
          },
          "metadata": {
            "tags": []
          },
          "execution_count": 23
        },
        {
          "output_type": "display_data",
          "data": {
            "image/png": "[encoded data removed]",
            "text/plain": [
              "<matplotlib.figure.Figure at 0x7f59c191d9e8>"
            ]
          },
          "metadata": {
            "tags": []
          }
        }
      ]
    },
    {
      "metadata": {
        "id": "XHp-8-aeeHkl",
        "colab_type": "text"
      },
      "cell_type": "markdown",
      "source": [
        "#Consideration on label distribution\n",
        "\n",
        "We can see that most common protein structures belong to coarse grained cellular components like the plasma membrane, the cytosol and the nucleus.\n",
        "In contrast small components like the lipid droplets, peroxisomes, endosomes, lysosomes, microtubule ends, rods and rings are very seldom in our train data. For these classes the prediction will be very difficult as we have only a few examples that may not cover all variabilities and as our model probably will be confused during ins learning process by the major classes. Due to this confusion we will make less accurate predictions on the minor classes.\n",
        "Consequently accuracy is not the right score here to measure your performance and validation strategy should be very fine."
      ]
    },
    {
      "metadata": {
        "id": "RxlP_gWSeSB8",
        "colab_type": "code",
        "colab": {}
      },
      "cell_type": "code",
      "source": [
        ""
      ],
      "execution_count": 0,
      "outputs": []
    },
    {
      "metadata": {
        "id": "vAj3qbL7wQl-",
        "colab_type": "code",
        "colab": {}
      },
      "cell_type": "code",
      "source": [
        "#https://www.quandl.com/api/v3/datasets/WIKI/FB/data.csv\n",
        "def date_obj_to_str(date_obj):\n",
        "  return date_obj.strftime('%Y-%m-%d')\n",
        "\n",
        "def save_pickle(something, path):\n",
        "  if not os.path.exists(os.path.dirname(path)):\n",
        "    os.makedirs(os.path.dirname(path))\n",
        "  with open(path, 'wb') as fh:\n",
        "    pickle.dump(something, fh, pickle.DEFAULT_PROTOCOL)\n",
        "    \n",
        "def load_pickle(path):\n",
        "  with open(path, 'rb') as fh:\n",
        "    return pickle.load(fh)\n",
        "\n",
        "def fetch_stock_price(symbol,from_date,to_date,cache_path= './tmp/prices/'):\n",
        "  assert(from_date <= to_date)\n",
        "  filename = \"{}_{}_{}.pk\".format(symbol,str(from_date),str(to_date))\n",
        "  price_filepath = os.path.join(cache_path,filename)\n",
        "  try:\n",
        "    prices = load_pickle(price_filepath)\n",
        "    print(\"Data Loaded from local\")  \n",
        "  except: \n",
        "    historic = quandl.get(\"WIKI/\"+symbol,start_date=date_obj_to_str(from_date),end_date=date_obj_to_str(to_date))\n",
        "    prices = historic[\"Adj. Close\"].tolist()\n",
        "    save_pickle(prices,price_filepath)\n",
        "  return prices \n",
        "\n",
        "def format_dataset (values, temporal_features):\n",
        "  feat_split = [values[i:i+temporal_features] for i in range(len(values)-temporal_features)]\n",
        "  feats = np.vstack(feat_split)\n",
        "  labels =np.array(values[temporal_features:])\n",
        "  return feats,labels\n",
        "\n",
        "def matrix_to_array(m):\n",
        "  return np.asarray(m).reshape(-1)\n",
        "\n",
        "def evaluate_ts(features,y_true,y_pred):\n",
        "  print(\"Evaluation of the predictions:\")\n",
        "  print(\"MSE:\",np.mean(np.square(y_true-y_pred)))\n",
        "  print(\"mae:\",np.mean(np.abs(y_true-y_pred)))\n",
        "  \n",
        "  print(\"Benchmark: if prediction == last feature\")\n",
        "  print(\"MSE:\",np.mean(np.square(features[:,1] - y_true)))\n",
        "  print(\"mae:\",np.mean(np.abs(features[:,-1]-y_true)))\n",
        "  \n",
        "  plt.plot(matrix_to_array(y_true),'b')\n",
        "  plt.plot(matrix_to_array(y_pred),'r--')\n",
        "  plt.xlabel(\"Days\")\n",
        "  plt.ylabel(\"Predicted and True values\")\n",
        "  plt.title(\"Predicte(Red) VS Real (Blue)\")\n",
        "  plt.show()\n",
        "\n",
        "  error=np.abs(matrix_to_array(y_pred)-matrix_to_array(y_true))\n",
        "\n",
        "  plt.plot(error,'r')\n",
        "  fit = np.polyfit(range(len(error)),error,deg=1)\n",
        "  plt.plot(fit[0]*range(len(error))+fit[1],'--')\n",
        "  plt.xlabel(\"Days\")\n",
        "  plt.ylabel(\"Prediction error L1 norm\")\n",
        "  plt.title(\"Prediction error (absolute) and trendline\")\n",
        "  plt.show()\n",
        "  \n",
        "def fetch_cosine_values(seq_len,frequency=0.01,noise=0.1):\n",
        "  np.random.seed(101)\n",
        "  x = np.arange(0.0, seq_len, 1.0)\n",
        "  return np.cos(2*np.pi*frequency*x)+np.random.uniform(low=-noise, high=noise,size=seq_len)\n",
        "\n"
      ],
      "execution_count": 0,
      "outputs": []
    },
    {
      "metadata": {
        "scrolled": true,
        "id": "H3dPs43hwQmD",
        "colab_type": "code",
        "colab": {}
      },
      "cell_type": "code",
      "source": [
        "from tensorflow.contrib import rnn\n",
        "time_dimension = 20\n",
        "#Data loading\n",
        "df = pd.read_csv('/content/gdrive/My Drive/algo_stuff/Gdax_ETHUSD.csv')\n",
        "df = df.reindex(index=df.index[::-1])\n",
        "cos_values = np.array(df[['Open']]).flatten()\n",
        "print(cos_values)\n",
        "\n",
        "mini_X,mini_Y = format_dataset(cos_values,time_dimension)\n",
        "print(mini_X.shape)\n",
        "print(mini_Y.shape)\n"
      ],
      "execution_count": 0,
      "outputs": []
    },
    {
      "metadata": {
        "id": "UkT9xfTrwQmL",
        "colab_type": "code",
        "colab": {}
      },
      "cell_type": "code",
      "source": [
        "tf.reset_default_graph()\n",
        "tf.set_random_seed(101)\n",
        "\n",
        "feat_dimension = 20\n",
        "\n",
        "data_len = mini_X.shape[0]\n",
        "print(data_len)\n",
        "\n",
        "#test_size = train_size -feat_dimension\n",
        "\n",
        "learning_rate = 0.05\n",
        "optimizer = tf.train.AdamOptimizer\n",
        "n_epochs = 1000\n",
        "mini_1 = mini_X\n",
        "mini_2 = mini_X[-1500:-500]\n",
        "plt.plot(mini_1,'b')\n",
        "len(mini_2)\n"
      ],
      "execution_count": 0,
      "outputs": []
    },
    {
      "metadata": {
        "id": "jZvAzwFO0Gxt",
        "colab_type": "code",
        "colab": {}
      },
      "cell_type": "code",
      "source": [
        "plt.plot(mini_2,'b')\n"
      ],
      "execution_count": 0,
      "outputs": []
    },
    {
      "metadata": {
        "id": "GoU0dE0ZJm3a",
        "colab_type": "text"
      },
      "cell_type": "markdown",
      "source": [
        ""
      ]
    },
    {
      "metadata": {
        "id": "x2zUqoTuJZtV",
        "colab_type": "text"
      },
      "cell_type": "markdown",
      "source": [
        "#Visualize the variance"
      ]
    },
    {
      "metadata": {
        "id": "CWhVEEOkJgc_",
        "colab_type": "text"
      },
      "cell_type": "markdown",
      "source": [
        "We pointed out that the prediction can be mad on different time series considering the variance observed in the window."
      ]
    },
    {
      "metadata": {
        "id": "aubKdIxVzpT7",
        "colab_type": "code",
        "colab": {}
      },
      "cell_type": "code",
      "source": [
        "train_X = mini_X[-2500:-500,:].astype(np.float32)\n",
        "train_y = mini_Y[-2500:-500].reshape((-1,1)).astype(np.float32)\n",
        "print(train_X.shape)\n",
        "print(train_y.shape)\n",
        "test_X = mini_X[-500:,:].astype(np.float32)\n",
        "print(test_X)\n",
        "variance_over_test = np.var(test_X,axis=1)\n",
        "plt.plot(variance_over_test)\n",
        "test_y = mini_Y[-500:].reshape((-1,1)).astype(np.float32)\n",
        "print(test_X.shape)\n",
        "print(test_y.shape)"
      ],
      "execution_count": 0,
      "outputs": []
    },
    {
      "metadata": {
        "id": "P7gqvbI9wQmR",
        "colab_type": "text"
      },
      "cell_type": "markdown",
      "source": [
        "# Regression"
      ]
    },
    {
      "metadata": {
        "id": "m-sVcc5QwQmT",
        "colab_type": "code",
        "colab": {}
      },
      "cell_type": "code",
      "source": [
        "X_tf = tf.placeholder(\"float\",shape=(None,feat_dimension),name=\"X\")\n",
        "y_tf = tf.placeholder(\"float\",shape=(None,1),name=\"y\")\n",
        "\n",
        "def regression_ANN(x, weights, biasese):\n",
        "    return tf.add(biasese, tf.matmul(x,weights))\n",
        "\n",
        "weights = tf.Variable(tf.truncated_normal([feat_dimension,1],mean=0.0,stddev=1.0),name=\"weights\")\n",
        "biases = tf.Variable(tf.zeros([1, 1]),name=\"bias\")\n",
        "\n",
        "y_pred = regression_ANN(X_tf,weights,biases)\n",
        "cost = tf.reduce_mean(tf.square(y_tf-y_pred))\n",
        "train_op = optimizer(learning_rate).minimize(cost)\n",
        "\n",
        "saver = tf.train.Saver()\n",
        "\n",
        "\n",
        "with tf.Session() as sess:\n",
        "    sess.run(tf.global_variables_initializer())\n",
        "\n",
        "    for i in range(n_epochs):\n",
        "        train_cost, _ = sess.run([cost, train_op],feed_dict={X_tf:train_X,y_tf:train_y})\n",
        "        if (i%100 ==0):\n",
        "          print(\"Training iteration: \",i,\" MSE: \",train_cost)\n",
        "          \n",
        "    test_cost, y_pr = sess.run([cost,y_pred],feed_dict={X_tf:test_X,y_tf: test_y})\n",
        "    print(\"Test dataset: \",test_cost)\n",
        "    save_path = saver.save(sess, \"/content/gdrive/My Drive/algo_stuff/regression.ckpt\")\n",
        "    print(\"Model saved in path: %s\" % save_path)\n",
        "    #Evaluate results\n",
        "    evaluate_ts(test_X,test_y,y_pr)\n",
        "\n",
        "    #How does the predicted value looks like ?\n",
        "    plt.plot(range(len(cos_values)),cos_values,'b')\n",
        "    #plt.plot(range(len(cos_values)-test_size,len(cos_values)),y_pr,'r--')\n",
        "    plt.xlabel(\"Days\")\n",
        "    plt.ylabel(\"predicted and true values\")\n",
        "    plt.title(\"Predicted (Red) vs Real (Blue)\")\n",
        "    plt.show()\n",
        "\n"
      ],
      "execution_count": 0,
      "outputs": []
    },
    {
      "metadata": {
        "id": "WeIb151LwQmZ",
        "colab_type": "text"
      },
      "cell_type": "markdown",
      "source": [
        "# LSTM"
      ]
    },
    {
      "metadata": {
        "id": "8G48EOtq320O",
        "colab_type": "code",
        "colab": {}
      },
      "cell_type": "code",
      "source": [
        "import tensorflow as tf\n",
        "device_name = tf.test.gpu_device_name()\n",
        "if device_name != '/device:GPU:0':\n",
        "  raise SystemError('GPU device not found')\n",
        "print('Found GPU at: {}'.format(device_name))"
      ],
      "execution_count": 0,
      "outputs": []
    },
    {
      "metadata": {
        "id": "HY0bCWlJwQma",
        "colab_type": "code",
        "colab": {}
      },
      "cell_type": "code",
      "source": [
        "import datetime \n",
        "import os \n",
        "\n",
        "tf.reset_default_graph()\n",
        "tf.set_random_seed(101)\n",
        "\n",
        "time_dimension = 20 #Changable\n",
        "train_size = 252 #Changable  \n",
        "test_size = 252 #Changable \n",
        "learning_rate =0.05 #Changable \n",
        "optimizer = tf.train.AdagradOptimizer\n",
        "n_epochs =50000 #Changable\n",
        "n_embeddings = 256 #Changable \n",
        "validate_every_n_epochs = 10\n",
        "early_stop_after = 50\n",
        "\n",
        "\n",
        "train_X_ts = train_X[:,:,np.newaxis]\n",
        "test_X_ts = test_X[:,:,np.newaxis]\n",
        "\n",
        "X_tf = tf.placeholder(\"float\",shape=(None,time_dimension,1),name=\"X\")\n",
        "y_tf = tf.placeholder(\"float\",shape=(None,1),name=\"y\")\n",
        "\n",
        "\n",
        "def RNN(x,weights,biases):\n",
        "    x_ = tf.unstack(x,time_dimension,1)\n",
        "    lstm_cell =  rnn.BasicLSTMCell(n_embeddings,name='basic_lstm_cell')\n",
        "    outputs,_ = rnn.static_rnn(lstm_cell,x_,dtype = tf.float32)\n",
        "    return tf.add(biases,tf.matmul(outputs[-1],weights))\n",
        "\n",
        "weights = tf.Variable(tf.truncated_normal([n_embeddings,1],mean=0.0,stddev=10.0,name= \"weights\"))\n",
        "biases = tf.Variable(tf.zeros([1]),name=\"bias\")\n",
        "\n",
        "y_pred = RNN(X_tf,weights,biases)\n",
        "with tf.name_scope(\"cost\"):\n",
        "    cost = tf.reduce_mean(tf.square(y_tf - y_pred))\n",
        "    train_op = optimizer(learning_rate).minimize(cost)\n",
        "    tf.summary.scalar(\"MSE\",cost)\n",
        "    with tf.name_scope(\"mae\"):\n",
        "        mae_cost = tf.reduce_mean(tf.abs(y_tf-y_pred))\n",
        "        tf.summary.scalar(\"mae\",mae_cost)\n",
        "\n",
        "saver = tf.train.Saver()\n",
        "best_metrics = 100000\n",
        "early_stopping_counter = 0\n",
        "validate_every_n_epochs = 100\n",
        "early_stop_after = 50\n",
        "#GPU optimization\n",
        "config = tf.ConfigProto()\n",
        "config.gpu_options.allow_growth = True\n",
        "\n",
        "with tf.Session(config=config) as sess: \n",
        "\n",
        "    sess.run(tf.global_variables_initializer())\n",
        "    \n",
        "    for i in range(n_epochs):\n",
        "        train_cost, _ = sess.run([cost, train_op],feed_dict={X_tf:train_X_ts,y_tf:train_y})\n",
        "        if(i%(500) == 0):\n",
        "          print(\"Training iteration: \",i,\" MSE: \",train_cost)\n",
        "        \n",
        "        if (i>1000000):\n",
        "            if(i%validate_every_n_epochs==0):\n",
        "                test_cost, y_pr = sess.run([cost,y_pred],feed_dict={X_tf:test_X_ts,y_tf: test_y})\n",
        "                print(\"Test dataset: \",test_cost)\n",
        "                if (test_cost<best_metrics):\n",
        "                    best_metrics = test_cost\n",
        "                    #best_model = saver.save(sess, 'my-model', global_step=i)\n",
        "                '''\n",
        "                f(test_cost>best_metrics):\n",
        "                    early_stopping_counter+=1\n",
        "                    if early_stopping_counter ==early_stop_after:\n",
        "                        print(\"I should stop\")\n",
        "                '''\n",
        "    save_path = saver.save(sess, \"/content/gdrive/My Drive/algo_stuff/LSTM.ckpt\")\n",
        "    test_cost, y_pr = sess.run([cost,y_pred],feed_dict={X_tf:test_X_ts,y_tf: test_y})\n",
        "    print(\"Test dataset: \",test_cost)\n"
      ],
      "execution_count": 0,
      "outputs": []
    },
    {
      "metadata": {
        "id": "XaohsIStwQmn",
        "colab_type": "code",
        "colab": {}
      },
      "cell_type": "code",
      "source": [
        "evaluate_ts(test_X[:100,:],test_y[:100,:],y_pr[:100,:])\n"
      ],
      "execution_count": 0,
      "outputs": []
    },
    {
      "metadata": {
        "id": "YzYEAv63VLxu",
        "colab_type": "code",
        "colab": {}
      },
      "cell_type": "code",
      "source": [
        ""
      ],
      "execution_count": 0,
      "outputs": []
    }
  ]
}